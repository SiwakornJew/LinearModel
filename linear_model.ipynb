{
  "nbformat": 4,
  "nbformat_minor": 0,
  "metadata": {
    "colab": {
      "name": "linear model",
      "provenance": [],
      "collapsed_sections": []
    },
    "kernelspec": {
      "name": "python3",
      "display_name": "Python 3"
    },
    "language_info": {
      "name": "python"
    }
  },
  "cells": [
    {
      "cell_type": "code",
      "metadata": {
        "colab": {
          "base_uri": "https://localhost:8080/"
        },
        "id": "apXf25_y3MOW",
        "outputId": "c1fe14cc-5b80-4740-ecf2-c9fceddc1c23"
      },
      "source": [
        "pip install pandas"
      ],
      "execution_count": null,
      "outputs": [
        {
          "output_type": "stream",
          "name": "stdout",
          "text": [
            "Requirement already satisfied: pandas in /usr/local/lib/python3.7/dist-packages (1.1.5)\n",
            "Requirement already satisfied: python-dateutil>=2.7.3 in /usr/local/lib/python3.7/dist-packages (from pandas) (2.8.2)\n",
            "Requirement already satisfied: numpy>=1.15.4 in /usr/local/lib/python3.7/dist-packages (from pandas) (1.19.5)\n",
            "Requirement already satisfied: pytz>=2017.2 in /usr/local/lib/python3.7/dist-packages (from pandas) (2018.9)\n",
            "Requirement already satisfied: six>=1.5 in /usr/local/lib/python3.7/dist-packages (from python-dateutil>=2.7.3->pandas) (1.15.0)\n"
          ]
        }
      ]
    },
    {
      "cell_type": "code",
      "metadata": {
        "colab": {
          "base_uri": "https://localhost:8080/"
        },
        "id": "Zf6HZaIR38Yz",
        "outputId": "1afefcf5-d60c-4b90-a503-d1b657604243"
      },
      "source": [
        "pip install numpy"
      ],
      "execution_count": null,
      "outputs": [
        {
          "output_type": "stream",
          "name": "stdout",
          "text": [
            "Requirement already satisfied: numpy in /usr/local/lib/python3.7/dist-packages (1.19.5)\n"
          ]
        }
      ]
    },
    {
      "cell_type": "code",
      "metadata": {
        "colab": {
          "base_uri": "https://localhost:8080/"
        },
        "id": "8ceknKV238w1",
        "outputId": "7ad946e9-d875-4e75-8e7b-7995891e6edb"
      },
      "source": [
        "pip install matplotlib"
      ],
      "execution_count": null,
      "outputs": [
        {
          "output_type": "stream",
          "name": "stdout",
          "text": [
            "Requirement already satisfied: matplotlib in /usr/local/lib/python3.7/dist-packages (3.2.2)\n",
            "Requirement already satisfied: cycler>=0.10 in /usr/local/lib/python3.7/dist-packages (from matplotlib) (0.11.0)\n",
            "Requirement already satisfied: kiwisolver>=1.0.1 in /usr/local/lib/python3.7/dist-packages (from matplotlib) (1.3.2)\n",
            "Requirement already satisfied: numpy>=1.11 in /usr/local/lib/python3.7/dist-packages (from matplotlib) (1.19.5)\n",
            "Requirement already satisfied: pyparsing!=2.0.4,!=2.1.2,!=2.1.6,>=2.0.1 in /usr/local/lib/python3.7/dist-packages (from matplotlib) (2.4.7)\n",
            "Requirement already satisfied: python-dateutil>=2.1 in /usr/local/lib/python3.7/dist-packages (from matplotlib) (2.8.2)\n",
            "Requirement already satisfied: six>=1.5 in /usr/local/lib/python3.7/dist-packages (from python-dateutil>=2.1->matplotlib) (1.15.0)\n"
          ]
        }
      ]
    },
    {
      "cell_type": "code",
      "metadata": {
        "colab": {
          "base_uri": "https://localhost:8080/"
        },
        "id": "hqR5yxQ73-fG",
        "outputId": "ca91723f-0a11-44ae-8871-66f26ff118b4"
      },
      "source": [
        "pip install seaborn"
      ],
      "execution_count": null,
      "outputs": [
        {
          "output_type": "stream",
          "name": "stdout",
          "text": [
            "Requirement already satisfied: seaborn in /usr/local/lib/python3.7/dist-packages (0.11.2)\n",
            "Requirement already satisfied: scipy>=1.0 in /usr/local/lib/python3.7/dist-packages (from seaborn) (1.4.1)\n",
            "Requirement already satisfied: pandas>=0.23 in /usr/local/lib/python3.7/dist-packages (from seaborn) (1.1.5)\n",
            "Requirement already satisfied: numpy>=1.15 in /usr/local/lib/python3.7/dist-packages (from seaborn) (1.19.5)\n",
            "Requirement already satisfied: matplotlib>=2.2 in /usr/local/lib/python3.7/dist-packages (from seaborn) (3.2.2)\n",
            "Requirement already satisfied: cycler>=0.10 in /usr/local/lib/python3.7/dist-packages (from matplotlib>=2.2->seaborn) (0.11.0)\n",
            "Requirement already satisfied: python-dateutil>=2.1 in /usr/local/lib/python3.7/dist-packages (from matplotlib>=2.2->seaborn) (2.8.2)\n",
            "Requirement already satisfied: pyparsing!=2.0.4,!=2.1.2,!=2.1.6,>=2.0.1 in /usr/local/lib/python3.7/dist-packages (from matplotlib>=2.2->seaborn) (2.4.7)\n",
            "Requirement already satisfied: kiwisolver>=1.0.1 in /usr/local/lib/python3.7/dist-packages (from matplotlib>=2.2->seaborn) (1.3.2)\n",
            "Requirement already satisfied: pytz>=2017.2 in /usr/local/lib/python3.7/dist-packages (from pandas>=0.23->seaborn) (2018.9)\n",
            "Requirement already satisfied: six>=1.5 in /usr/local/lib/python3.7/dist-packages (from python-dateutil>=2.1->matplotlib>=2.2->seaborn) (1.15.0)\n"
          ]
        }
      ]
    },
    {
      "cell_type": "code",
      "metadata": {
        "colab": {
          "base_uri": "https://localhost:8080/"
        },
        "id": "TTD8BQqY3_of",
        "outputId": "35159754-6da9-481d-dc9f-bebd83de4958"
      },
      "source": [
        "pip install sklearn"
      ],
      "execution_count": null,
      "outputs": [
        {
          "output_type": "stream",
          "name": "stdout",
          "text": [
            "Requirement already satisfied: sklearn in /usr/local/lib/python3.7/dist-packages (0.0)\n",
            "Requirement already satisfied: scikit-learn in /usr/local/lib/python3.7/dist-packages (from sklearn) (1.0.1)\n",
            "Requirement already satisfied: numpy>=1.14.6 in /usr/local/lib/python3.7/dist-packages (from scikit-learn->sklearn) (1.19.5)\n",
            "Requirement already satisfied: scipy>=1.1.0 in /usr/local/lib/python3.7/dist-packages (from scikit-learn->sklearn) (1.4.1)\n",
            "Requirement already satisfied: threadpoolctl>=2.0.0 in /usr/local/lib/python3.7/dist-packages (from scikit-learn->sklearn) (3.0.0)\n",
            "Requirement already satisfied: joblib>=0.11 in /usr/local/lib/python3.7/dist-packages (from scikit-learn->sklearn) (1.1.0)\n"
          ]
        }
      ]
    },
    {
      "cell_type": "code",
      "metadata": {
        "colab": {
          "base_uri": "https://localhost:8080/"
        },
        "id": "kw-HAVY14BEx",
        "outputId": "4dcaccfc-db75-4a41-c053-69718888b497"
      },
      "source": [
        "pip install category_encoders"
      ],
      "execution_count": null,
      "outputs": [
        {
          "output_type": "stream",
          "name": "stdout",
          "text": [
            "Requirement already satisfied: category_encoders in /usr/local/lib/python3.7/dist-packages (2.3.0)\n",
            "Requirement already satisfied: statsmodels>=0.9.0 in /usr/local/lib/python3.7/dist-packages (from category_encoders) (0.10.2)\n",
            "Requirement already satisfied: scipy>=1.0.0 in /usr/local/lib/python3.7/dist-packages (from category_encoders) (1.4.1)\n",
            "Requirement already satisfied: scikit-learn>=0.20.0 in /usr/local/lib/python3.7/dist-packages (from category_encoders) (1.0.1)\n",
            "Requirement already satisfied: numpy>=1.14.0 in /usr/local/lib/python3.7/dist-packages (from category_encoders) (1.19.5)\n",
            "Requirement already satisfied: pandas>=0.21.1 in /usr/local/lib/python3.7/dist-packages (from category_encoders) (1.1.5)\n",
            "Requirement already satisfied: patsy>=0.5.1 in /usr/local/lib/python3.7/dist-packages (from category_encoders) (0.5.2)\n",
            "Requirement already satisfied: pytz>=2017.2 in /usr/local/lib/python3.7/dist-packages (from pandas>=0.21.1->category_encoders) (2018.9)\n",
            "Requirement already satisfied: python-dateutil>=2.7.3 in /usr/local/lib/python3.7/dist-packages (from pandas>=0.21.1->category_encoders) (2.8.2)\n",
            "Requirement already satisfied: six in /usr/local/lib/python3.7/dist-packages (from patsy>=0.5.1->category_encoders) (1.15.0)\n",
            "Requirement already satisfied: joblib>=0.11 in /usr/local/lib/python3.7/dist-packages (from scikit-learn>=0.20.0->category_encoders) (1.1.0)\n",
            "Requirement already satisfied: threadpoolctl>=2.0.0 in /usr/local/lib/python3.7/dist-packages (from scikit-learn>=0.20.0->category_encoders) (3.0.0)\n"
          ]
        }
      ]
    },
    {
      "cell_type": "code",
      "metadata": {
        "id": "b2EAyBCs4C6S"
      },
      "source": [
        "import pandas as pd\n",
        "import numpy as np\n",
        "import matplotlib.pyplot as plt\n",
        "import seaborn as sns\n",
        "import plotly.express as px\n",
        "import plotly.graph_objects as go\n",
        "from sklearn import preprocessing \n",
        "from category_encoders import *\n",
        "from sklearn.preprocessing import LabelEncoder\n",
        "%matplotlib inline\n",
        "from sklearn import datasets, linear_model, metrics\n",
        "from sklearn.metrics import  confusion_matrix\n",
        "from sklearn.metrics import accuracy_score, confusion_matrix, classification_report\n",
        "from sklearn.preprocessing import StandardScaler\n",
        "from sklearn.model_selection import train_test_split\n",
        "from sklearn.metrics import classification_report,confusion_matrix\n",
        "import warnings\n",
        "warnings.filterwarnings('ignore')"
      ],
      "execution_count": null,
      "outputs": []
    },
    {
      "cell_type": "code",
      "metadata": {
        "id": "HX37jDeg4Eno",
        "colab": {
          "base_uri": "https://localhost:8080/",
          "height": 408
        },
        "outputId": "4917bb6f-7b39-4560-e20a-e482dd228de0"
      },
      "source": [
        "address_csv = \"/content/StudentsPerformance5.csv\"\n",
        "df = pd.read_csv(address_csv)\n",
        "df"
      ],
      "execution_count": null,
      "outputs": [
        {
          "output_type": "execute_result",
          "data": {
            "text/html": [
              "<div>\n",
              "<style scoped>\n",
              "    .dataframe tbody tr th:only-of-type {\n",
              "        vertical-align: middle;\n",
              "    }\n",
              "\n",
              "    .dataframe tbody tr th {\n",
              "        vertical-align: top;\n",
              "    }\n",
              "\n",
              "    .dataframe thead th {\n",
              "        text-align: right;\n",
              "    }\n",
              "</style>\n",
              "<table border=\"1\" class=\"dataframe\">\n",
              "  <thead>\n",
              "    <tr style=\"text-align: right;\">\n",
              "      <th></th>\n",
              "      <th>gender</th>\n",
              "      <th>race/ethnicity</th>\n",
              "      <th>parental level of education</th>\n",
              "      <th>lunch</th>\n",
              "      <th>test preparation course</th>\n",
              "      <th>math score</th>\n",
              "      <th>reading score</th>\n",
              "      <th>writing score</th>\n",
              "      <th>pass</th>\n",
              "    </tr>\n",
              "  </thead>\n",
              "  <tbody>\n",
              "    <tr>\n",
              "      <th>0</th>\n",
              "      <td>0</td>\n",
              "      <td>1</td>\n",
              "      <td>4</td>\n",
              "      <td>1</td>\n",
              "      <td>0</td>\n",
              "      <td>72</td>\n",
              "      <td>72</td>\n",
              "      <td>74</td>\n",
              "      <td>1</td>\n",
              "    </tr>\n",
              "    <tr>\n",
              "      <th>1</th>\n",
              "      <td>0</td>\n",
              "      <td>2</td>\n",
              "      <td>2</td>\n",
              "      <td>1</td>\n",
              "      <td>1</td>\n",
              "      <td>69</td>\n",
              "      <td>90</td>\n",
              "      <td>88</td>\n",
              "      <td>1</td>\n",
              "    </tr>\n",
              "    <tr>\n",
              "      <th>2</th>\n",
              "      <td>0</td>\n",
              "      <td>1</td>\n",
              "      <td>5</td>\n",
              "      <td>1</td>\n",
              "      <td>0</td>\n",
              "      <td>90</td>\n",
              "      <td>95</td>\n",
              "      <td>93</td>\n",
              "      <td>1</td>\n",
              "    </tr>\n",
              "    <tr>\n",
              "      <th>3</th>\n",
              "      <td>1</td>\n",
              "      <td>0</td>\n",
              "      <td>3</td>\n",
              "      <td>0</td>\n",
              "      <td>0</td>\n",
              "      <td>47</td>\n",
              "      <td>57</td>\n",
              "      <td>44</td>\n",
              "      <td>0</td>\n",
              "    </tr>\n",
              "    <tr>\n",
              "      <th>4</th>\n",
              "      <td>1</td>\n",
              "      <td>2</td>\n",
              "      <td>2</td>\n",
              "      <td>1</td>\n",
              "      <td>0</td>\n",
              "      <td>76</td>\n",
              "      <td>78</td>\n",
              "      <td>75</td>\n",
              "      <td>1</td>\n",
              "    </tr>\n",
              "    <tr>\n",
              "      <th>...</th>\n",
              "      <td>...</td>\n",
              "      <td>...</td>\n",
              "      <td>...</td>\n",
              "      <td>...</td>\n",
              "      <td>...</td>\n",
              "      <td>...</td>\n",
              "      <td>...</td>\n",
              "      <td>...</td>\n",
              "      <td>...</td>\n",
              "    </tr>\n",
              "    <tr>\n",
              "      <th>995</th>\n",
              "      <td>0</td>\n",
              "      <td>4</td>\n",
              "      <td>5</td>\n",
              "      <td>1</td>\n",
              "      <td>1</td>\n",
              "      <td>88</td>\n",
              "      <td>99</td>\n",
              "      <td>95</td>\n",
              "      <td>1</td>\n",
              "    </tr>\n",
              "    <tr>\n",
              "      <th>996</th>\n",
              "      <td>1</td>\n",
              "      <td>2</td>\n",
              "      <td>1</td>\n",
              "      <td>0</td>\n",
              "      <td>0</td>\n",
              "      <td>62</td>\n",
              "      <td>55</td>\n",
              "      <td>55</td>\n",
              "      <td>1</td>\n",
              "    </tr>\n",
              "    <tr>\n",
              "      <th>997</th>\n",
              "      <td>0</td>\n",
              "      <td>2</td>\n",
              "      <td>1</td>\n",
              "      <td>0</td>\n",
              "      <td>1</td>\n",
              "      <td>59</td>\n",
              "      <td>71</td>\n",
              "      <td>65</td>\n",
              "      <td>1</td>\n",
              "    </tr>\n",
              "    <tr>\n",
              "      <th>998</th>\n",
              "      <td>0</td>\n",
              "      <td>3</td>\n",
              "      <td>2</td>\n",
              "      <td>1</td>\n",
              "      <td>1</td>\n",
              "      <td>68</td>\n",
              "      <td>78</td>\n",
              "      <td>77</td>\n",
              "      <td>1</td>\n",
              "    </tr>\n",
              "    <tr>\n",
              "      <th>999</th>\n",
              "      <td>0</td>\n",
              "      <td>3</td>\n",
              "      <td>2</td>\n",
              "      <td>0</td>\n",
              "      <td>0</td>\n",
              "      <td>77</td>\n",
              "      <td>86</td>\n",
              "      <td>86</td>\n",
              "      <td>1</td>\n",
              "    </tr>\n",
              "  </tbody>\n",
              "</table>\n",
              "<p>1000 rows × 9 columns</p>\n",
              "</div>"
            ],
            "text/plain": [
              "     gender  race/ethnicity  ...  writing score  pass\n",
              "0         0               1  ...             74     1\n",
              "1         0               2  ...             88     1\n",
              "2         0               1  ...             93     1\n",
              "3         1               0  ...             44     0\n",
              "4         1               2  ...             75     1\n",
              "..      ...             ...  ...            ...   ...\n",
              "995       0               4  ...             95     1\n",
              "996       1               2  ...             55     1\n",
              "997       0               2  ...             65     1\n",
              "998       0               3  ...             77     1\n",
              "999       0               3  ...             86     1\n",
              "\n",
              "[1000 rows x 9 columns]"
            ]
          },
          "metadata": {},
          "execution_count": 16
        }
      ]
    },
    {
      "cell_type": "code",
      "metadata": {
        "colab": {
          "base_uri": "https://localhost:8080/",
          "height": 328
        },
        "id": "3NO0Y3Cd6sYK",
        "outputId": "b80fd417-c910-4544-8865-83ea8752fc12"
      },
      "source": [
        "address = \"/content/StudentsPerformance.csv\"\n",
        "df1 = pd.read_csv(address)\n",
        "df1.isnull().sum()\n",
        "print(df['pass'].value_counts())\n",
        "plt.pie(df['pass'].value_counts(),labels=['Pass','Fail'],autopct='%1.1f%%')\n",
        "plt.title('Percentage of students Passed/Failed')"
      ],
      "execution_count": null,
      "outputs": [
        {
          "output_type": "stream",
          "name": "stdout",
          "text": [
            "1    897\n",
            "0    103\n",
            "Name: pass, dtype: int64\n"
          ]
        },
        {
          "output_type": "execute_result",
          "data": {
            "text/plain": [
              "Text(0.5, 1.0, 'Percentage of students Passed/Failed')"
            ]
          },
          "metadata": {},
          "execution_count": 17
        },
        {
          "output_type": "display_data",
          "data": {
            "image/png": "[encoded data removed]",
            "text/plain": [
              "<Figure size 432x288 with 1 Axes>"
            ]
          },
          "metadata": {}
        }
      ]
    },
    {
      "cell_type": "code",
      "metadata": {
        "id": "ueTExuxj4S2n"
      },
      "source": [
        "import statistics as stats\n",
        "from numpy import dot\n",
        "import numpy as np\n",
        "from numpy.linalg import norm\n",
        "import math\n",
        "import matplotlib.pyplot as plt\n",
        "\n",
        "\n",
        "def find_Euclidean(A,B):\n",
        "  if(len(A) != len(B)):\n",
        "    print(\"ERROR LEN A != LEN B\")\n",
        "    return -1\n",
        "  all = 0\n",
        "  for x in range(0,len(A)):\n",
        "   all += math.pow(A[x]-B[x],2)\n",
        "  ans  = math.sqrt(all)\n",
        "  return ans\n",
        "\n",
        "\n",
        "axis_x = list(range(1000))\n",
        "axis_y = []\n",
        "\n",
        "\n",
        "student_max = [max(df['math score']),max(df['reading score']),max(df['writing score'])]\n",
        "\n",
        "for x in range(0,1000):\n",
        "  student_temp = [df['math score'][x],df['reading score'][x],df['writing score'][x]]\n",
        "  result = find_Euclidean(student_temp,student_max)\n",
        "  axis_y .append(result)\n",
        "  # print(f\"Euclidean student_{x+1} to max = {str(result)}\")\n",
        "\n",
        "\n",
        "mena_Euclidean = np.mean(axis_y)\n",
        "\n",
        "\n",
        "\n",
        "\n"
      ],
      "execution_count": null,
      "outputs": []
    },
    {
      "cell_type": "code",
      "metadata": {
        "id": "_sVUeEJ44pom",
        "colab": {
          "base_uri": "https://localhost:8080/",
          "height": 686
        },
        "outputId": "7cf06bf3-9715-4491-e1a3-7e4e1dc2ec28"
      },
      "source": [
        "gender_female = []\n",
        "gender_male = []\n",
        "for x in  range(0,1000) :\n",
        "  if df['gender'][x] == 0:\n",
        "    gender_female.append(axis_y[x])\n",
        "  elif df['gender'][x] ==1:\n",
        "    gender_male.append(axis_y[x])\n",
        "# print(axis_y)\n",
        "# print(gender_female)\n",
        "# print(gender_male)\n",
        "print(f\"mena_Euclidean = {mena_Euclidean}\")\n",
        "\n",
        "sumdiff = 0\n",
        "ALL_gender = [gender_female,gender_male ]\n",
        "ALL_title = ['gender_female','gender_male']\n",
        "for i,t in zip(ALL_gender,ALL_title):\n",
        "  i.sort()\n",
        "  mena_i_Euclidean = np.mean(i)\n",
        "  number_x = range(len(i))\n",
        "\n",
        "  plt.scatter(number_x,i)\n",
        "  plt.axhline(mena_Euclidean, color=\"black\", linestyle=\"--\")\n",
        "  plt.axhline(mena_i_Euclidean, color=\"red\", linestyle=\"--\")\n",
        "  plt.xlabel(\"x\")\n",
        "  plt.ylabel(t)\n",
        "  plt.title(\"--\")\n",
        "  plt.show()\n",
        "  print(f\"mean_Euclidean of {t} = {mena_i_Euclidean}\")\n",
        "  print(f\"% dif = {(mena_Euclidean-mena_i_Euclidean)/(mena_Euclidean/100)}\")\n",
        "  sumdiff += abs(mena_Euclidean-mena_i_Euclidean)/(mena_Euclidean/100)\n",
        "\n",
        "print(\"\")\n",
        "print(f\"sumdiff = {sumdiff/len(ALL_gender)}%\")\n"
      ],
      "execution_count": null,
      "outputs": [
        {
          "output_type": "stream",
          "name": "stdout",
          "text": [
            "mena_Euclidean = 56.57977640047074\n"
          ]
        },
        {
          "output_type": "display_data",
          "data": {
            "image/png": "[encoded data removed]",
            "text/plain": [
              "<Figure size 432x288 with 1 Axes>"
            ]
          },
          "metadata": {
            "needs_background": "light"
          }
        },
        {
          "output_type": "stream",
          "name": "stdout",
          "text": [
            "mean_Euclidean of gender_female = 53.68337741356343\n",
            "% dif = 5.119141805027029\n"
          ]
        },
        {
          "output_type": "display_data",
          "data": {
            "image/png": "[encoded data removed]",
            "text/plain": [
              "<Figure size 432x288 with 1 Axes>"
            ]
          },
          "metadata": {
            "needs_background": "light"
          }
        },
        {
          "output_type": "stream",
          "name": "stdout",
          "text": [
            "mean_Euclidean of gender_male = 59.692503942416764\n",
            "% dif = -5.501484346481306\n",
            "\n",
            "sumdiff = 5.310313075754168%\n"
          ]
        }
      ]
    },
    {
      "cell_type": "code",
      "metadata": {
        "id": "SuPKUlgn49MX",
        "colab": {
          "base_uri": "https://localhost:8080/",
          "height": 1000
        },
        "outputId": "c52af09b-2cb4-4625-85b0-f0232cffb9bc"
      },
      "source": [
        "race_A = []\n",
        "race_B = []\n",
        "race_C = []\n",
        "race_D = []\n",
        "race_E = []\n",
        "\n",
        "for x in  range(0,1000) :\n",
        "  if df['race/ethnicity'][x] ==0:\n",
        "    race_A.append(axis_y[x])\n",
        "  elif df['race/ethnicity'][x] == 1:\n",
        "    race_B.append(axis_y[x])\n",
        "  elif df['race/ethnicity'][x] == 2:\n",
        "    race_C.append(axis_y[x])\n",
        "  elif df['race/ethnicity'][x] == 3:\n",
        "    race_D.append(axis_y[x])\n",
        "  elif df['race/ethnicity'][x] == 4:\n",
        "    race_E.append(axis_y[x])\n",
        "\n",
        "print(f\"mena_Euclidean = {mena_Euclidean}\")\n",
        "sumdiff = 0\n",
        "\n",
        "ALL_race = [race_A ,race_B,race_C,race_D,race_E ]\n",
        "ALL_title = ['race_A' ,'race_B','race_C','race_D','race_E']\n",
        "for i,t in zip(ALL_race,ALL_title):\n",
        "  i.sort()\n",
        "  mena_i_Euclidean = np.mean(i)\n",
        "  number_x = range(len(i))\n",
        "\n",
        "  plt.scatter(number_x,i)\n",
        "  plt.axhline(mena_Euclidean, color=\"black\", linestyle=\"--\")\n",
        "  plt.axhline(mena_i_Euclidean, color=\"red\", linestyle=\"--\")\n",
        "  plt.xlabel(\"x\")\n",
        "  plt.ylabel(t)\n",
        "  plt.title(\"--\")\n",
        "  plt.show()\n",
        "  print(f\"mean_Euclidean of {t} = {mena_i_Euclidean}\")\n",
        "  print(f\"% dif = {(mena_Euclidean-mena_i_Euclidean)/(mena_Euclidean/100)}\")\n",
        "  sumdiff += abs(mena_Euclidean-mena_i_Euclidean)/(mena_Euclidean/100)\n",
        "\n",
        "print(\"\")\n",
        "print(f\"sumdiff = {sumdiff/len(ALL_race)}%\")"
      ],
      "execution_count": null,
      "outputs": [
        {
          "output_type": "stream",
          "name": "stdout",
          "text": [
            "mena_Euclidean = 56.57977640047074\n"
          ]
        },
        {
          "output_type": "display_data",
          "data": {
            "image/png": "[encoded data removed]",
            "text/plain": [
              "<Figure size 432x288 with 1 Axes>"
            ]
          },
          "metadata": {
            "needs_background": "light"
          }
        },
        {
          "output_type": "stream",
          "name": "stdout",
          "text": [
            "mean_Euclidean of race_A = 64.75881264163387\n",
            "% dif = -14.455759215575613\n"
          ]
        },
        {
          "output_type": "display_data",
          "data": {
            "image/png": "[encoded data removed]",
            "text/plain": [
              "<Figure size 432x288 with 1 Axes>"
            ]
          },
          "metadata": {
            "needs_background": "light"
          }
        },
        {
          "output_type": "stream",
          "name": "stdout",
          "text": [
            "mean_Euclidean of race_B = 60.48779067869959\n",
            "% dif = -6.9070868194458495\n"
          ]
        },
        {
          "output_type": "display_data",
          "data": {
            "image/png": "[encoded data removed]",
            "text/plain": [
              "<Figure size 432x288 with 1 Axes>"
            ]
          },
          "metadata": {
            "needs_background": "light"
          }
        },
        {
          "output_type": "stream",
          "name": "stdout",
          "text": [
            "mean_Euclidean of race_C = 57.70514724781908\n",
            "% dif = -1.9889984000342793\n"
          ]
        },
        {
          "output_type": "display_data",
          "data": {
            "image/png": "[encoded data removed]",
            "text/plain": [
              "<Figure size 432x288 with 1 Axes>"
            ]
          },
          "metadata": {
            "needs_background": "light"
          }
        },
        {
          "output_type": "stream",
          "name": "stdout",
          "text": [
            "mean_Euclidean of race_D = 54.18505053935831\n",
            "% dif = 4.232476714228426\n"
          ]
        },
        {
          "output_type": "display_data",
          "data": {
            "image/png": "[encoded data removed]",
            "text/plain": [
              "<Figure size 432x288 with 1 Axes>"
            ]
          },
          "metadata": {
            "needs_background": "light"
          }
        },
        {
          "output_type": "stream",
          "name": "stdout",
          "text": [
            "mean_Euclidean of race_E = 47.99383309318743\n",
            "% dif = 15.174933259743094\n",
            "\n",
            "sumdiff = 8.551850881805453%\n"
          ]
        }
      ]
    },
    {
      "cell_type": "code",
      "metadata": {
        "id": "9gHcDT1u5HWm",
        "colab": {
          "base_uri": "https://localhost:8080/",
          "height": 1000
        },
        "outputId": "ad38c153-e3b5-4367-f151-78867f440d9b"
      },
      "source": [
        "some_high_school = []\n",
        "high_school = []\n",
        "some_college = []\n",
        "associate_degree = []\n",
        "bachelor_degree = []\n",
        "master_degree = []\n",
        "\n",
        "for x in  range(0,1000) :\n",
        "  if df['parental level of education'][x] == 0:\n",
        "    some_high_school.append(axis_y[x])\n",
        "  elif df['parental level of education'][x] == 1:\n",
        "    high_school.append(axis_y[x])\n",
        "  elif df['parental level of education'][x] == 2:\n",
        "    some_college.append(axis_y[x])\n",
        "  elif df['parental level of education'][x] == 3:\n",
        "    associate_degree.append(axis_y[x])\n",
        "  elif df['parental level of education'][x] == 4:\n",
        "    bachelor_degree.append(axis_y[x])\n",
        "  elif df['parental level of education'][x] == 5:\n",
        "    master_degree.append(axis_y[x])\n",
        "# print(axis_y)\n",
        "# print(some_high_school)\n",
        "# print(high_school)\n",
        "print(f\"mena_Euclidean = {mena_Euclidean}\")\n",
        "sumdiff = 0\n",
        "\n",
        "ALL_parental_education = [some_high_school,high_school,some_college,associate_degree,bachelor_degree ,master_degree]\n",
        "ALL_title = ['some_high_school','high_school','some_college','associate_degree','bachelor_degree' ,'master_degree']\n",
        "for i,t in zip(ALL_parental_education,ALL_title):\n",
        "  i.sort()\n",
        "  mena_i_Euclidean = np.mean(i)\n",
        "  number_x = range(len(i))\n",
        "\n",
        "  plt.scatter(number_x,i)\n",
        "  plt.axhline(mena_Euclidean, color=\"black\", linestyle=\"--\")\n",
        "  plt.axhline(mena_i_Euclidean, color=\"red\", linestyle=\"--\")\n",
        "  plt.xlabel(\"x\")\n",
        "  plt.ylabel(t)\n",
        "  plt.title(\"--\")\n",
        "  plt.show()\n",
        "  print(f\"mean_Euclidean of {t} = {mena_i_Euclidean}\")\n",
        "  print(f\"% dif = {(mena_Euclidean-mena_i_Euclidean)/(mena_Euclidean/100)}\")\n",
        "  sumdiff += abs(mena_Euclidean-mena_i_Euclidean)/(mena_Euclidean/100)\n",
        "\n",
        "print(\"\")\n",
        "print(f\"sumdiff = {sumdiff/len(ALL_parental_education)}%\")\n"
      ],
      "execution_count": null,
      "outputs": [
        {
          "output_type": "stream",
          "name": "stdout",
          "text": [
            "mena_Euclidean = 56.57977640047074\n"
          ]
        },
        {
          "output_type": "display_data",
          "data": {
            "image/png": "[encoded data removed]",
            "text/plain": [
              "<Figure size 432x288 with 1 Axes>"
            ]
          },
          "metadata": {
            "needs_background": "light"
          }
        },
        {
          "output_type": "stream",
          "name": "stdout",
          "text": [
            "mean_Euclidean of some_high_school = 61.160950457665884\n",
            "% dif = -8.096840158521777\n"
          ]
        },
        {
          "output_type": "display_data",
          "data": {
            "image/png": "[encoded data removed]",
            "text/plain": [
              "<Figure size 432x288 with 1 Axes>"
            ]
          },
          "metadata": {
            "needs_background": "light"
          }
        },
        {
          "output_type": "stream",
          "name": "stdout",
          "text": [
            "mean_Euclidean of high_school = 64.51005475382559\n",
            "% dif = -14.016100553711032\n"
          ]
        },
        {
          "output_type": "display_data",
          "data": {
            "image/png": "[encoded data removed]",
            "text/plain": [
              "<Figure size 432x288 with 1 Axes>"
            ]
          },
          "metadata": {
            "needs_background": "light"
          }
        },
        {
          "output_type": "stream",
          "name": "stdout",
          "text": [
            "mean_Euclidean of some_college = 55.343968764594536\n",
            "% dif = 2.1841861429942386\n"
          ]
        },
        {
          "output_type": "display_data",
          "data": {
            "image/png": "[encoded data removed]",
            "text/plain": [
              "<Figure size 432x288 with 1 Axes>"
            ]
          },
          "metadata": {
            "needs_background": "light"
          }
        },
        {
          "output_type": "stream",
          "name": "stdout",
          "text": [
            "mean_Euclidean of associate_degree = 53.503921746344126\n",
            "% dif = 5.436314615942924\n"
          ]
        },
        {
          "output_type": "display_data",
          "data": {
            "image/png": "[encoded data removed]",
            "text/plain": [
              "<Figure size 432x288 with 1 Axes>"
            ]
          },
          "metadata": {
            "needs_background": "light"
          }
        },
        {
          "output_type": "stream",
          "name": "stdout",
          "text": [
            "mean_Euclidean of bachelor_degree = 49.488763808353056\n",
            "% dif = 12.532768849999712\n"
          ]
        },
        {
          "output_type": "display_data",
          "data": {
            "image/png": "[encoded data removed]",
            "text/plain": [
              "<Figure size 432x288 with 1 Axes>"
            ]
          },
          "metadata": {
            "needs_background": "light"
          }
        },
        {
          "output_type": "stream",
          "name": "stdout",
          "text": [
            "mean_Euclidean of master_degree = 46.82565828688656\n",
            "% dif = 17.23958406011486\n",
            "\n",
            "sumdiff = 9.917632396880757%\n"
          ]
        }
      ]
    },
    {
      "cell_type": "code",
      "metadata": {
        "id": "rBX_v0m25O3E",
        "colab": {
          "base_uri": "https://localhost:8080/",
          "height": 686
        },
        "outputId": "6c56a9fb-3c76-4455-dddd-69f1c14946b4"
      },
      "source": [
        "lunch_free = []\n",
        "lunch_standard = []\n",
        "for x in  range(0,1000) :\n",
        "  if df['lunch'][x] == 0:\n",
        "    lunch_free.append(axis_y[x])\n",
        "  elif df['lunch'][x] == 1:\n",
        "    lunch_standard.append(axis_y[x])\n",
        "# print(axis_y)\n",
        "print(f\"mena_Euclidean = {mena_Euclidean}\")\n",
        "sumdiff = 0\n",
        "\n",
        "ALL_lunch = [lunch_free,lunch_standard ]\n",
        "ALL_title = ['lunch_free','lunch_standard']\n",
        "for i,t in zip(ALL_lunch,ALL_title):\n",
        "  i.sort()\n",
        "  mena_i_Euclidean = np.mean(i)\n",
        "  number_x = range(len(i))\n",
        "\n",
        "  plt.scatter(number_x,i)\n",
        "  plt.axhline(mena_Euclidean, color=\"black\", linestyle=\"--\")\n",
        "  plt.axhline(mena_i_Euclidean, color=\"red\", linestyle=\"--\")\n",
        "  plt.xlabel(\"x\")\n",
        "  plt.ylabel(t)\n",
        "  plt.title(\"--\")\n",
        "  plt.show()\n",
        "  print(f\"mean_Euclidean of {t} = {mena_i_Euclidean}\")\n",
        "  print(f\"% dif = {(mena_Euclidean-mena_i_Euclidean)/(mena_Euclidean/100)}\")\n",
        "  sumdiff += abs(mena_Euclidean-mena_i_Euclidean)/(mena_Euclidean/100)\n",
        "\n",
        "print(\"\")\n",
        "print(f\"sumdiff = {sumdiff/len(ALL_lunch)}%\")"
      ],
      "execution_count": null,
      "outputs": [
        {
          "output_type": "stream",
          "name": "stdout",
          "text": [
            "mena_Euclidean = 56.57977640047074\n"
          ]
        },
        {
          "output_type": "display_data",
          "data": {
            "image/png": "[encoded data removed]",
            "text/plain": [
              "<Figure size 432x288 with 1 Axes>"
            ]
          },
          "metadata": {
            "needs_background": "light"
          }
        },
        {
          "output_type": "stream",
          "name": "stdout",
          "text": [
            "mean_Euclidean of lunch_free = 66.22280098377475\n",
            "% dif = -17.043235581298223\n"
          ]
        },
        {
          "output_type": "display_data",
          "data": {
            "image/png": "[encoded data removed]",
            "text/plain": [
              "<Figure size 432x288 with 1 Axes>"
            ]
          },
          "metadata": {
            "needs_background": "light"
          }
        },
        {
          "output_type": "stream",
          "name": "stdout",
          "text": [
            "mean_Euclidean of lunch_standard = 51.2723752732259\n",
            "% dif = 9.380385474978102\n",
            "\n",
            "sumdiff = 13.211810528138162%\n"
          ]
        }
      ]
    },
    {
      "cell_type": "code",
      "metadata": {
        "id": "6RJ-rkwo5W0c",
        "colab": {
          "base_uri": "https://localhost:8080/",
          "height": 686
        },
        "outputId": "68a58f2a-5109-422a-bc50-8a40d11ddf8c"
      },
      "source": [
        "preparation_none = []\n",
        "preparation_completed = []\n",
        "for x in  range(0,1000) :\n",
        "  if df['test preparation course'][x] ==0:\n",
        "   preparation_none.append(axis_y[x])\n",
        "  elif df['test preparation course'][x] == 1:\n",
        "    preparation_completed.append(axis_y[x])\n",
        "# print(axis_y)\n",
        "print(f\"mena_Euclidean = {mena_Euclidean}\")\n",
        "sumdiff = 0\n",
        "\n",
        "ALL_preparation= [preparation_none,preparation_completed]\n",
        "ALL_title = ['preparation_none','preparation_completed']\n",
        "for i,t in zip(ALL_preparation,ALL_title):\n",
        "  i.sort()\n",
        "  mena_i_Euclidean = np.mean(i)\n",
        "  number_x = range(len(i))\n",
        "\n",
        "  plt.scatter(number_x,i)\n",
        "  plt.axhline(mena_Euclidean, color=\"black\", linestyle=\"--\")\n",
        "  plt.axhline(mena_i_Euclidean, color=\"red\", linestyle=\"--\")\n",
        "  plt.xlabel(\"x\")\n",
        "  plt.ylabel(t)\n",
        "  plt.title(\"--\")\n",
        "  plt.show()\n",
        "  print(f\"mean_Euclidean of {t} = {mena_i_Euclidean}\")\n",
        "  print(f\"% dif = {(mena_Euclidean-mena_i_Euclidean)/(mena_Euclidean/100)}\")\n",
        "  sumdiff += abs(mena_Euclidean-mena_i_Euclidean)/(mena_Euclidean/100)\n",
        "\n",
        "print(\"\")\n",
        "print(f\"sumdiff = {sumdiff/len(ALL_preparation)}%\")"
      ],
      "execution_count": null,
      "outputs": [
        {
          "output_type": "stream",
          "name": "stdout",
          "text": [
            "mena_Euclidean = 56.57977640047074\n"
          ]
        },
        {
          "output_type": "display_data",
          "data": {
            "image/png": "[encoded data removed]",
            "text/plain": [
              "<Figure size 432x288 with 1 Axes>"
            ]
          },
          "metadata": {
            "needs_background": "light"
          }
        },
        {
          "output_type": "stream",
          "name": "stdout",
          "text": [
            "mean_Euclidean of preparation_none = 61.18883133368587\n",
            "% dif = -8.146117263865293\n"
          ]
        },
        {
          "output_type": "display_data",
          "data": {
            "image/png": "[encoded data removed]",
            "text/plain": [
              "<Figure size 432x288 with 1 Axes>"
            ]
          },
          "metadata": {
            "needs_background": "light"
          }
        },
        {
          "output_type": "stream",
          "name": "stdout",
          "text": [
            "mean_Euclidean of preparation_completed = 48.31437621297321\n",
            "% dif = 14.60840023296516\n",
            "\n",
            "sumdiff = 11.377258748415226%\n"
          ]
        }
      ]
    },
    {
      "cell_type": "code",
      "metadata": {
        "id": "3y0yRjfp5dlr",
        "colab": {
          "base_uri": "https://localhost:8080/",
          "height": 843
        },
        "outputId": "605b2480-89f3-4499-cf69-9fb5c6555d62"
      },
      "source": [
        "import pandas as pd\n",
        "f=pd.read_csv('/content/StudentsPerformance5.csv')\n",
        "f.shape\n",
        "f.corr()\n",
        "plt.figure(figsize=(12,12))\n",
        "sns.heatmap(f.corr(),annot=True\n",
        "           ,linewidths=0.5\n",
        "           ,fmt=\".2f\"\n",
        "           ,cmap=\"YlGnBu\")"
      ],
      "execution_count": null,
      "outputs": [
        {
          "output_type": "execute_result",
          "data": {
            "text/plain": [
              "<matplotlib.axes._subplots.AxesSubplot at 0x7fe442f116d0>"
            ]
          },
          "metadata": {},
          "execution_count": 24
        },
        {
          "output_type": "display_data",
          "data": {
            "image/png": "[encoded data removed]",
            "text/plain": [
              "<Figure size 864x864 with 2 Axes>"
            ]
          },
          "metadata": {
            "needs_background": "light"
          }
        }
      ]
    },
    {
      "cell_type": "code",
      "metadata": {
        "id": "l4fi2Cft5pVP",
        "colab": {
          "base_uri": "https://localhost:8080/",
          "height": 200
        },
        "outputId": "6689744e-70eb-4aed-c1bd-550181cdd58c"
      },
      "source": [
        "x=f.drop(['pass','math score','reading score','writing score'],axis=1)\n",
        "y = f['pass']\n",
        "x.head()"
      ],
      "execution_count": null,
      "outputs": [
        {
          "output_type": "execute_result",
          "data": {
            "text/html": [
              "<div>\n",
              "<style scoped>\n",
              "    .dataframe tbody tr th:only-of-type {\n",
              "        vertical-align: middle;\n",
              "    }\n",
              "\n",
              "    .dataframe tbody tr th {\n",
              "        vertical-align: top;\n",
              "    }\n",
              "\n",
              "    .dataframe thead th {\n",
              "        text-align: right;\n",
              "    }\n",
              "</style>\n",
              "<table border=\"1\" class=\"dataframe\">\n",
              "  <thead>\n",
              "    <tr style=\"text-align: right;\">\n",
              "      <th></th>\n",
              "      <th>gender</th>\n",
              "      <th>race/ethnicity</th>\n",
              "      <th>parental level of education</th>\n",
              "      <th>lunch</th>\n",
              "      <th>test preparation course</th>\n",
              "    </tr>\n",
              "  </thead>\n",
              "  <tbody>\n",
              "    <tr>\n",
              "      <th>0</th>\n",
              "      <td>0</td>\n",
              "      <td>1</td>\n",
              "      <td>4</td>\n",
              "      <td>1</td>\n",
              "      <td>0</td>\n",
              "    </tr>\n",
              "    <tr>\n",
              "      <th>1</th>\n",
              "      <td>0</td>\n",
              "      <td>2</td>\n",
              "      <td>2</td>\n",
              "      <td>1</td>\n",
              "      <td>1</td>\n",
              "    </tr>\n",
              "    <tr>\n",
              "      <th>2</th>\n",
              "      <td>0</td>\n",
              "      <td>1</td>\n",
              "      <td>5</td>\n",
              "      <td>1</td>\n",
              "      <td>0</td>\n",
              "    </tr>\n",
              "    <tr>\n",
              "      <th>3</th>\n",
              "      <td>1</td>\n",
              "      <td>0</td>\n",
              "      <td>3</td>\n",
              "      <td>0</td>\n",
              "      <td>0</td>\n",
              "    </tr>\n",
              "    <tr>\n",
              "      <th>4</th>\n",
              "      <td>1</td>\n",
              "      <td>2</td>\n",
              "      <td>2</td>\n",
              "      <td>1</td>\n",
              "      <td>0</td>\n",
              "    </tr>\n",
              "  </tbody>\n",
              "</table>\n",
              "</div>"
            ],
            "text/plain": [
              "   gender  race/ethnicity  ...  lunch  test preparation course\n",
              "0       0               1  ...      1                        0\n",
              "1       0               2  ...      1                        1\n",
              "2       0               1  ...      1                        0\n",
              "3       1               0  ...      0                        0\n",
              "4       1               2  ...      1                        0\n",
              "\n",
              "[5 rows x 5 columns]"
            ]
          },
          "metadata": {},
          "execution_count": 25
        }
      ]
    },
    {
      "cell_type": "code",
      "metadata": {
        "id": "BsDrXR5q5sz4",
        "colab": {
          "base_uri": "https://localhost:8080/"
        },
        "outputId": "a4ab65c6-7400-4b0a-ff4a-e4f1cb6ed393"
      },
      "source": [
        "y = f['pass']\n",
        "countP=0\n",
        "countF=0\n",
        "for i in range(1000):\n",
        "  if y[i]==1:\n",
        "    countP+=1\n",
        "  else:\n",
        "    countF+=1\n",
        "print(countP)\n",
        "print(countF)"
      ],
      "execution_count": null,
      "outputs": [
        {
          "output_type": "stream",
          "name": "stdout",
          "text": [
            "897\n",
            "103\n"
          ]
        }
      ]
    },
    {
      "cell_type": "code",
      "metadata": {
        "id": "ftS10Yrq5w0d"
      },
      "source": [
        "\n",
        "from sklearn.model_selection import train_test_split\n",
        "x_train, x_test, y_train, y_test = train_test_split(x, y, test_size= 0.3, random_state=360)\n",
        "\n"
      ],
      "execution_count": null,
      "outputs": []
    },
    {
      "cell_type": "code",
      "metadata": {
        "id": "rF9A4u2f5yxj"
      },
      "source": [
        "\n",
        "from sklearn.preprocessing import MinMaxScaler\n",
        "mm = MinMaxScaler()\n",
        "x_train = mm.fit_transform(x_train)\n",
        "x_test = mm.transform(x_test)"
      ],
      "execution_count": null,
      "outputs": []
    },
    {
      "cell_type": "code",
      "metadata": {
        "id": "LrYYhN_R52aT",
        "colab": {
          "base_uri": "https://localhost:8080/"
        },
        "outputId": "6551ccec-1239-4f0a-9161-df343a7a1f19"
      },
      "source": [
        "from sklearn.ensemble import RandomForestClassifier\n",
        "model = RandomForestClassifier()\n",
        "model.fit(x_train,y_train)\n",
        "y_pred = model.predict(x_test)\n",
        "\n",
        "print(\"Training Accuracy :\",model.score(x_train,y_train)*100)\n",
        "print(\"Testing Accuracy :\",model.score(x_test,y_test)*100)"
      ],
      "execution_count": null,
      "outputs": [
        {
          "output_type": "stream",
          "name": "stdout",
          "text": [
            "Training Accuracy : 91.14285714285715\n",
            "Testing Accuracy : 86.33333333333333\n"
          ]
        }
      ]
    },
    {
      "cell_type": "code",
      "metadata": {
        "id": "Gp1XXOPKCaVR",
        "colab": {
          "base_uri": "https://localhost:8080/"
        },
        "outputId": "f900c40b-3755-4109-dc4d-de9877074659"
      },
      "source": [
        "from sklearn.metrics import confusion_matrix\n",
        "cm=confusion_matrix(y_test, y_pred)\n",
        "\n",
        "print(cm)"
      ],
      "execution_count": null,
      "outputs": [
        {
          "output_type": "stream",
          "name": "stdout",
          "text": [
            "[[  3  35]\n",
            " [  6 256]]\n"
          ]
        }
      ]
    },
    {
      "cell_type": "code",
      "metadata": {
        "id": "S2UiO4Ci8JkN",
        "colab": {
          "base_uri": "https://localhost:8080/",
          "height": 503
        },
        "outputId": "3d65a38a-25af-486c-aa64-09957a436e46"
      },
      "source": [
        "from sklearn.metrics import confusion_matrix\n",
        "\n",
        "plt.rcParams['figure.figsize'] = (8,8)\n",
        "sns.heatmap(cm,annot = True,cmap = 'Reds')\n",
        "plt.title('Confusion Matrix for Random Forest',fontweight = 30,fontsize = 20)\n",
        "plt.show()"
      ],
      "execution_count": null,
      "outputs": [
        {
          "output_type": "display_data",
          "data": {
            "image/png": "[encoded data removed]",
            "text/plain": [
              "<Figure size 576x576 with 2 Axes>"
            ]
          },
          "metadata": {
            "needs_background": "light"
          }
        }
      ]
    },
    {
      "cell_type": "code",
      "metadata": {
        "id": "CJe0s3BQ6jYb"
      },
      "source": [
        "from sklearn.preprocessing import StandardScaler\n",
        "scale = StandardScaler()\n",
        "x_train = scale.fit_transform(x_train)\n",
        "x_test = scale.transform(x_test)"
      ],
      "execution_count": null,
      "outputs": []
    },
    {
      "cell_type": "code",
      "metadata": {
        "id": "_laUinaRuMhi",
        "colab": {
          "base_uri": "https://localhost:8080/"
        },
        "outputId": "6deb1a68-56d7-430e-e573-93d4dda1b5d8"
      },
      "source": [
        "from sklearn.linear_model import LogisticRegression\n",
        "lr = LogisticRegression()\n",
        "lr.fit(x_train,y_train)\n",
        "y_pred = lr.predict(x_test)\n",
        "\n",
        "from sklearn.metrics import accuracy_score\n",
        "# print(accuracy_score(y_test, y_pred))\n",
        "print(\"Training Accuracy :\", lr.score(x_train, y_train)*100)\n",
        "print(\"Testing Accuracy :\", lr.score(x_test, y_test)*100)"
      ],
      "execution_count": null,
      "outputs": [
        {
          "output_type": "stream",
          "name": "stdout",
          "text": [
            "Training Accuracy : 90.42857142857143\n",
            "Testing Accuracy : 87.66666666666667\n"
          ]
        }
      ]
    },
    {
      "cell_type": "code",
      "metadata": {
        "id": "wb0oDuHS8aWW",
        "colab": {
          "base_uri": "https://localhost:8080/"
        },
        "outputId": "40a3ce3d-c55b-4b26-b0ed-e46db0846d35"
      },
      "source": [
        "from sklearn.metrics import confusion_matrix\n",
        "cm=confusion_matrix(y_test, y_pred)\n",
        "print(cm)"
      ],
      "execution_count": null,
      "outputs": [
        {
          "output_type": "stream",
          "name": "stdout",
          "text": [
            "[[  1  37]\n",
            " [  0 262]]\n"
          ]
        }
      ]
    },
    {
      "cell_type": "code",
      "metadata": {
        "id": "5xhBQKquEOJ_",
        "colab": {
          "base_uri": "https://localhost:8080/",
          "height": 503
        },
        "outputId": "243e4430-c8fd-41c4-a148-d28f2f48861c"
      },
      "source": [
        "\n",
        "from sklearn.metrics import confusion_matrix\n",
        "\n",
        "cm = confusion_matrix(y_test,y_pred)\n",
        "\n",
        "plt.rcParams['figure.figsize'] = (8,8)\n",
        "sns.heatmap(cm,annot = True,cmap = 'Greens')\n",
        "plt.title('Confusion Matrix for Logistic Regression',fontweight = 30,fontsize = 20)\n",
        "plt.show()"
      ],
      "execution_count": null,
      "outputs": [
        {
          "output_type": "display_data",
          "data": {
            "image/png": "[encoded data removed]",
            "text/plain": [
              "<Figure size 576x576 with 2 Axes>"
            ]
          },
          "metadata": {
            "needs_background": "light"
          }
        }
      ]
    },
    {
      "cell_type": "code",
      "metadata": {
        "id": "KQKgeamMlfUv"
      },
      "source": [
        "b=model.predict(x)\n",
        "a=lr.predict(x)\n",
        "for i in range(1000):\n",
        "  if a[i] ==0:\n",
        "    print(i)"
      ],
      "execution_count": 122,
      "outputs": []
    },
    {
      "cell_type": "code",
      "metadata": {
        "id": "xYREJtfb7FK6",
        "colab": {
          "base_uri": "https://localhost:8080/"
        },
        "outputId": "b571b2a8-5c06-402c-dfd1-dd60279c46c5"
      },
      "source": [
        "model.predict(x)"
      ],
      "execution_count": null,
      "outputs": [
        {
          "output_type": "execute_result",
          "data": {
            "text/plain": [
              "array([1, 1, 1, 1, 1, 1, 1, 1, 1, 1, 1, 1, 1, 1, 1, 1, 1, 1, 1, 1, 1, 1,\n",
              "       1, 1, 1, 1, 1, 1, 1, 1, 1, 1, 1, 1, 1, 1, 1, 1, 1, 1, 1, 1, 1, 1,\n",
              "       1, 1, 1, 1, 1, 1, 1, 1, 1, 1, 1, 1, 1, 1, 1, 1, 1, 1, 1, 1, 1, 1,\n",
              "       1, 1, 1, 1, 1, 1, 1, 1, 1, 1, 1, 1, 1, 1, 1, 1, 1, 1, 1, 1, 1, 1,\n",
              "       1, 1, 1, 1, 1, 1, 1, 1, 1, 1, 1, 1, 1, 1, 1, 1, 1, 1, 1, 1, 1, 1,\n",
              "       1, 1, 1, 1, 1, 1, 1, 1, 1, 1, 1, 1, 1, 1, 1, 1, 1, 1, 1, 1, 1, 1,\n",
              "       1, 1, 1, 1, 1, 1, 1, 1, 1, 1, 1, 1, 1, 1, 1, 1, 1, 1, 1, 1, 1, 1,\n",
              "       1, 1, 1, 1, 1, 1, 1, 1, 1, 1, 1, 1, 1, 1, 1, 1, 1, 1, 1, 1, 1, 1,\n",
              "       1, 1, 1, 1, 1, 1, 1, 1, 1, 1, 1, 1, 1, 1, 1, 1, 1, 1, 1, 1, 1, 1,\n",
              "       1, 1, 1, 1, 1, 1, 1, 1, 1, 1, 1, 1, 1, 1, 1, 1, 1, 1, 1, 1, 1, 1,\n",
              "       1, 1, 1, 1, 1, 1, 1, 1, 1, 1, 1, 1, 1, 1, 1, 1, 1, 1, 1, 1, 1, 1,\n",
              "       1, 1, 1, 1, 1, 1, 1, 1, 1, 1, 1, 1, 1, 1, 1, 1, 1, 1, 1, 1, 1, 1,\n",
              "       1, 1, 1, 1, 1, 1, 1, 1, 1, 1, 1, 1, 1, 1, 1, 1, 1, 1, 1, 1, 1, 1,\n",
              "       1, 1, 1, 1, 1, 1, 1, 1, 1, 1, 1, 1, 1, 1, 1, 1, 1, 1, 1, 1, 1, 1,\n",
              "       1, 1, 1, 1, 1, 1, 1, 1, 1, 1, 1, 1, 1, 1, 1, 1, 1, 1, 1, 1, 1, 1,\n",
              "       1, 1, 1, 1, 1, 1, 1, 1, 1, 1, 1, 1, 1, 1, 1, 1, 1, 1, 1, 1, 1, 1,\n",
              "       1, 1, 1, 1, 1, 1, 1, 1, 1, 1, 1, 1, 1, 1, 1, 1, 1, 1, 1, 1, 1, 1,\n",
              "       1, 1, 1, 1, 1, 1, 1, 1, 1, 1, 1, 1, 1, 1, 1, 1, 1, 1, 1, 1, 1, 1,\n",
              "       1, 1, 1, 1, 1, 1, 1, 1, 1, 1, 1, 1, 1, 1, 1, 1, 1, 1, 1, 1, 1, 1,\n",
              "       1, 1, 1, 1, 1, 1, 1, 1, 1, 1, 1, 1, 1, 1, 1, 1, 1, 1, 1, 1, 1, 1,\n",
              "       1, 1, 1, 1, 1, 1, 1, 1, 1, 1, 1, 1, 1, 1, 1, 1, 1, 1, 1, 1, 1, 1,\n",
              "       1, 1, 1, 1, 1, 1, 1, 1, 1, 1, 1, 1, 1, 1, 1, 1, 1, 1, 1, 1, 1, 1,\n",
              "       1, 1, 1, 1, 1, 1, 1, 1, 1, 1, 1, 1, 1, 1, 1, 1, 1, 1, 1, 1, 1, 1,\n",
              "       1, 1, 1, 1, 1, 1, 1, 1, 1, 1, 1, 1, 1, 1, 1, 1, 1, 1, 1, 1, 1, 1,\n",
              "       1, 1, 1, 1, 1, 1, 1, 1, 1, 1, 1, 1, 1, 1, 1, 1, 1, 1, 1, 1, 1, 1,\n",
              "       1, 1, 1, 1, 1, 1, 1, 1, 1, 1, 1, 1, 1, 1, 1, 1, 1, 1, 1, 1, 1, 1,\n",
              "       1, 1, 1, 1, 1, 1, 1, 1, 1, 1, 1, 1, 1, 1, 1, 1, 1, 1, 1, 1, 1, 1,\n",
              "       1, 1, 1, 1, 1, 1, 1, 1, 1, 1, 1, 1, 1, 1, 1, 1, 1, 1, 1, 1, 1, 1,\n",
              "       1, 1, 1, 1, 1, 1, 1, 1, 1, 1, 1, 1, 1, 1, 1, 1, 1, 1, 1, 1, 1, 1,\n",
              "       1, 1, 1, 1, 1, 1, 1, 1, 1, 1, 1, 1, 1, 1, 1, 1, 1, 1, 1, 1, 1, 1,\n",
              "       1, 1, 1, 1, 1, 1, 1, 1, 1, 1, 1, 1, 1, 1, 1, 1, 1, 1, 1, 1, 1, 1,\n",
              "       1, 1, 1, 1, 1, 1, 1, 1, 1, 1, 1, 1, 1, 1, 1, 1, 1, 1, 1, 1, 1, 1,\n",
              "       1, 1, 1, 1, 1, 1, 1, 1, 1, 1, 1, 1, 1, 1, 1, 1, 1, 1, 1, 1, 1, 1,\n",
              "       1, 1, 1, 1, 1, 1, 1, 1, 1, 1, 1, 1, 1, 1, 1, 1, 1, 1, 1, 1, 1, 1,\n",
              "       1, 1, 1, 1, 1, 1, 1, 1, 1, 1, 1, 1, 1, 1, 1, 1, 1, 1, 1, 1, 1, 1,\n",
              "       1, 1, 1, 1, 1, 1, 1, 1, 1, 1, 1, 1, 1, 1, 1, 1, 1, 1, 1, 1, 1, 1,\n",
              "       1, 1, 1, 1, 1, 1, 1, 1, 1, 1, 1, 1, 1, 1, 1, 1, 1, 1, 1, 1, 1, 1,\n",
              "       1, 1, 1, 1, 1, 1, 1, 1, 1, 1, 1, 1, 1, 1, 1, 1, 1, 1, 1, 1, 1, 1,\n",
              "       1, 1, 1, 1, 1, 1, 1, 1, 1, 1, 1, 1, 1, 1, 1, 1, 1, 1, 1, 1, 1, 1,\n",
              "       1, 1, 1, 1, 1, 1, 1, 1, 1, 1, 1, 1, 1, 1, 1, 1, 1, 1, 1, 1, 1, 1,\n",
              "       1, 1, 1, 1, 1, 1, 1, 1, 1, 1, 1, 1, 1, 1, 1, 1, 1, 1, 1, 1, 1, 1,\n",
              "       1, 1, 1, 1, 1, 1, 1, 1, 1, 1, 1, 1, 1, 1, 1, 1, 1, 1, 1, 1, 1, 1,\n",
              "       1, 1, 1, 1, 1, 1, 1, 1, 1, 1, 1, 1, 1, 1, 1, 1, 1, 1, 1, 1, 1, 1,\n",
              "       1, 1, 1, 1, 1, 1, 1, 1, 1, 1, 1, 1, 1, 1, 1, 1, 1, 1, 1, 1, 1, 1,\n",
              "       1, 1, 1, 1, 1, 1, 1, 1, 1, 1, 1, 1, 1, 1, 1, 1, 1, 1, 1, 1, 1, 1,\n",
              "       1, 1, 1, 1, 1, 1, 1, 1, 1, 1])"
            ]
          },
          "metadata": {},
          "execution_count": 37
        }
      ]
    },
    {
      "cell_type": "code",
      "metadata": {
        "colab": {
          "base_uri": "https://localhost:8080/"
        },
        "id": "UlbX9j17hv0c",
        "outputId": "63f1abd8-e0f1-471e-8fea-8a9fe7daf3fb"
      },
      "source": [
        "g = int(input(\"gender :\"))\n",
        "re = int(input(\"race/ethnicity :\"))\n",
        "pl =int(input(\"parental level of education :\"))\n",
        "lu = int(input(\"lunch :\"))\n",
        "pre = int(input(\"test preparation course :\"))\n"
      ],
      "execution_count": 154,
      "outputs": [
        {
          "name": "stdout",
          "output_type": "stream",
          "text": [
            "gender :1\n",
            "race/ethnicity :3\n",
            "parental level of education :2\n",
            "lunch :0\n",
            "test preparation course :0\n"
          ]
        }
      ]
    },
    {
      "cell_type": "code",
      "metadata": {
        "id": "4SDPMx-7incx",
        "colab": {
          "base_uri": "https://localhost:8080/"
        },
        "outputId": "ada0145a-132a-4bcd-d90d-20660a9b823b"
      },
      "source": [
        "sample ={\n",
        "    'gender' : g ,\n",
        "    'race/ethnicity': re ,\n",
        "    'parental level of education' : pl,\n",
        "    'luch': lu,\n",
        "    'test preparation course': pre,\n",
        "}\n",
        "sample"
      ],
      "execution_count": 155,
      "outputs": [
        {
          "output_type": "execute_result",
          "data": {
            "text/plain": [
              "{'gender': 1,\n",
              " 'luch': 0,\n",
              " 'parental level of education': 2,\n",
              " 'race/ethnicity': 3,\n",
              " 'test preparation course': 0}"
            ]
          },
          "metadata": {},
          "execution_count": 155
        }
      ]
    },
    {
      "cell_type": "code",
      "metadata": {
        "id": "U4GFxMScjO5Q",
        "colab": {
          "base_uri": "https://localhost:8080/",
          "height": 79
        },
        "outputId": "64045b05-7a2f-4dbe-9402-e974b63ba73c"
      },
      "source": [
        "test = pd.DataFrame(data=sample,index=[0])\n",
        "test"
      ],
      "execution_count": 156,
      "outputs": [
        {
          "output_type": "execute_result",
          "data": {
            "text/html": [
              "<div>\n",
              "<style scoped>\n",
              "    .dataframe tbody tr th:only-of-type {\n",
              "        vertical-align: middle;\n",
              "    }\n",
              "\n",
              "    .dataframe tbody tr th {\n",
              "        vertical-align: top;\n",
              "    }\n",
              "\n",
              "    .dataframe thead th {\n",
              "        text-align: right;\n",
              "    }\n",
              "</style>\n",
              "<table border=\"1\" class=\"dataframe\">\n",
              "  <thead>\n",
              "    <tr style=\"text-align: right;\">\n",
              "      <th></th>\n",
              "      <th>gender</th>\n",
              "      <th>race/ethnicity</th>\n",
              "      <th>parental level of education</th>\n",
              "      <th>luch</th>\n",
              "      <th>test preparation course</th>\n",
              "    </tr>\n",
              "  </thead>\n",
              "  <tbody>\n",
              "    <tr>\n",
              "      <th>0</th>\n",
              "      <td>1</td>\n",
              "      <td>3</td>\n",
              "      <td>2</td>\n",
              "      <td>0</td>\n",
              "      <td>0</td>\n",
              "    </tr>\n",
              "  </tbody>\n",
              "</table>\n",
              "</div>"
            ],
            "text/plain": [
              "   gender  race/ethnicity  ...  luch  test preparation course\n",
              "0       1               3  ...     0                        0\n",
              "\n",
              "[1 rows x 5 columns]"
            ]
          },
          "metadata": {},
          "execution_count": 156
        }
      ]
    },
    {
      "cell_type": "code",
      "metadata": {
        "id": "6AKjAkrwjcsg",
        "colab": {
          "base_uri": "https://localhost:8080/"
        },
        "outputId": "ac9538bc-a0c6-4b87-b6b2-dd31843beba3"
      },
      "source": [
        "print(\"Using LogisticRegression model\")\n",
        "if lr.predict(test)[0] == 1:\n",
        "  print(\"You will pass exam\")\n",
        "else :\n",
        "  print(\"You will fail exam\")\n",
        "print(f\"Change of fail exam {lr.predict_proba(test)[0][0]*100:.2f}%\")\n",
        "print(f\"Change of pass exam {lr.predict_proba(test)[0][1]*100:.2f}%\")"
      ],
      "execution_count": 157,
      "outputs": [
        {
          "output_type": "stream",
          "name": "stdout",
          "text": [
            "Using LogisticRegression model\n",
            "You will pass exam\n",
            "Change of fail exam 1.21%\n",
            "Change of pass exam 98.79%\n"
          ]
        }
      ]
    },
    {
      "cell_type": "code",
      "metadata": {
        "id": "Tq6LYG2tkiYV",
        "colab": {
          "base_uri": "https://localhost:8080/"
        },
        "outputId": "b6425bfd-88bf-41a8-cdd6-5f9bb30a339d"
      },
      "source": [
        "print(\"Using RandomForestClassifier mode;\")\n",
        "if model.predict(test)[0] == 1:\n",
        "  print(\"You will pass exam\")\n",
        "else :\n",
        "  print(\"You will fail exam\")\n",
        "print(f\"Change of fail exam {model.predict_proba(test)[0][0]*100:.2f}%\")\n",
        "print(f\"Change of pass exam {model.predict_proba(test)[0][1]*100:.2f}%\")"
      ],
      "execution_count": 158,
      "outputs": [
        {
          "output_type": "stream",
          "name": "stdout",
          "text": [
            "Using RandomForestClassifier mode;\n",
            "You will pass exam\n",
            "Change of fail exam 12.88%\n",
            "Change of pass exam 87.12%\n"
          ]
        }
      ]
    }
  ]
}